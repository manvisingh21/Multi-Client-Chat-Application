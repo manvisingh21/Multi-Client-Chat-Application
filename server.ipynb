{
 "cells": [
  {
   "cell_type": "code",
   "execution_count": null,
   "id": "b2482db9",
   "metadata": {},
   "outputs": [
    {
     "name": "stdout",
     "output_type": "stream",
     "text": [
      "Server listening on 127.0.0.1:5555\n"
     ]
    }
   ],
   "source": [
    "# server.ipynb\n",
    "\n",
    "import socket\n",
    "import threading\n",
    "\n",
    "# Server configuration\n",
    "HOST = '127.0.0.1'\n",
    "PORT = 5555\n",
    "\n",
    "# List to store connected clients\n",
    "clients = []\n",
    "\n",
    "# Server socket setup\n",
    "server = socket.socket(socket.AF_INET, socket.SOCK_STREAM)\n",
    "server.bind((HOST, PORT))\n",
    "\n",
    "def handle_client(client_socket, client_address):\n",
    "    while True:\n",
    "        try:\n",
    "            # Receive data from the client\n",
    "            message = client_socket.recv(1024).decode('utf-8')\n",
    "            if not message:\n",
    "                break\n",
    "\n",
    "            # Broadcast the message to all connected clients\n",
    "            broadcast(message, client_socket)\n",
    "\n",
    "        except Exception as e:\n",
    "            print(f\"Error handling client {client_address}: {str(e)}\")\n",
    "            break\n",
    "\n",
    "    # Remove the client from the list\n",
    "    clients.remove(client_socket)\n",
    "    client_socket.close()\n",
    "\n",
    "def broadcast(message, sender_socket):\n",
    "    for client in clients:\n",
    "        # Send the message to all clients except the sender\n",
    "        if client != sender_socket:\n",
    "            try:\n",
    "                client.send(message.encode('utf-8'))\n",
    "            except Exception as e:\n",
    "                print(f\"Error broadcasting message: {str(e)}\")\n",
    "\n",
    "# Start listening for incoming connections\n",
    "server.listen()\n",
    "\n",
    "print(f\"Server listening on {HOST}:{PORT}\")\n",
    "\n",
    "while True:\n",
    "    # Accept a new connection\n",
    "    client_socket, client_address = server.accept()\n",
    "\n",
    "    # Add the new client to the list\n",
    "    clients.append(client_socket)\n",
    "\n",
    "    # Start a new thread to handle the client\n",
    "    client_thread = threading.Thread(target=handle_client, args=(client_socket, client_address))\n",
    "    client_thread.start()\n"
   ]
  },
  {
   "cell_type": "code",
   "execution_count": null,
   "id": "a1f9b415",
   "metadata": {},
   "outputs": [],
   "source": []
  }
 ],
 "metadata": {
  "kernelspec": {
   "display_name": "Python 3 (ipykernel)",
   "language": "python",
   "name": "python3"
  },
  "language_info": {
   "codemirror_mode": {
    "name": "ipython",
    "version": 3
   },
   "file_extension": ".py",
   "mimetype": "text/x-python",
   "name": "python",
   "nbconvert_exporter": "python",
   "pygments_lexer": "ipython3",
   "version": "3.9.7"
  }
 },
 "nbformat": 4,
 "nbformat_minor": 5
}
